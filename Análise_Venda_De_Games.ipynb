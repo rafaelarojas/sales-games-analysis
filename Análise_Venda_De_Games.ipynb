{
  "nbformat": 4,
  "nbformat_minor": 0,
  "metadata": {
    "colab": {
      "provenance": []
    },
    "kernelspec": {
      "name": "python3",
      "display_name": "Python 3"
    },
    "language_info": {
      "name": "python"
    }
  },
  "cells": [
    {
      "cell_type": "code",
      "execution_count": null,
      "metadata": {
        "id": "CT7-UFQpnSn-"
      },
      "outputs": [],
      "source": [
        "import pandas as pd\n",
        "import plotly.express as px"
      ]
    },
    {
      "cell_type": "code",
      "source": [
        "# Download dos dados\n",
        "!gdown 1tIqymcbVrlsNx7r7_C50yoVqmCVBmey-"
      ],
      "metadata": {
        "id": "XtdGTCTAxHzY",
        "colab": {
          "base_uri": "https://localhost:8080/"
        },
        "outputId": "32298769-79a6-410f-a085-cbc5834e7b24"
      },
      "execution_count": null,
      "outputs": [
        {
          "output_type": "stream",
          "name": "stdout",
          "text": [
            "Downloading...\n",
            "From: https://drive.google.com/uc?id=1tIqymcbVrlsNx7r7_C50yoVqmCVBmey-\n",
            "To: /content/vgsales_alt.csv\n",
            "\r  0% 0.00/1.28M [00:00<?, ?B/s]\r100% 1.28M/1.28M [00:00<00:00, 90.4MB/s]\n"
          ]
        }
      ]
    },
    {
      "cell_type": "code",
      "source": [
        "df = pd.read_csv('/content/vgsales_alt.csv')\n",
        "df.head()"
      ],
      "metadata": {
        "colab": {
          "base_uri": "https://localhost:8080/",
          "height": 206
        },
        "id": "fsL7VH1jhYt0",
        "outputId": "0f42d4ea-6d70-4cee-de09-44ea1a58e5f8"
      },
      "execution_count": null,
      "outputs": [
        {
          "output_type": "execute_result",
          "data": {
            "text/plain": [
              "                                               Name Platform    Year  \\\n",
              "0                            Imagine: Makeup Artist       DS  2020.0   \n",
              "1  Phantasy Star Online 2 Episode 4: Deluxe Package      PS4  2017.0   \n",
              "2                  Brothers Conflict: Precious Baby      PSV  2017.0   \n",
              "3  Phantasy Star Online 2 Episode 4: Deluxe Package      PSV  2017.0   \n",
              "4                Hyakka Hyakurou: Sengoku Ninpoujou      PSV  2016.0   \n",
              "\n",
              "          Genre     Publisher  NA_Sales  EU_Sales  JP_Sales  Global_Sales  \n",
              "0    Simulation       Ubisoft      0.27       0.0      0.00          0.29  \n",
              "1  Role-Playing          Sega      0.00       0.0      0.03          0.03  \n",
              "2        Action  Idea Factory      0.00       0.0      0.01          0.01  \n",
              "3  Role-Playing          Sega      0.00       0.0      0.01          0.01  \n",
              "4     Adventure   D3Publisher      0.00       0.0      0.02          0.02  "
            ],
            "text/html": [
              "\n",
              "\n",
              "  <div id=\"df-27a68821-4687-4cd6-822d-666a01c9223d\">\n",
              "    <div class=\"colab-df-container\">\n",
              "      <div>\n",
              "<style scoped>\n",
              "    .dataframe tbody tr th:only-of-type {\n",
              "        vertical-align: middle;\n",
              "    }\n",
              "\n",
              "    .dataframe tbody tr th {\n",
              "        vertical-align: top;\n",
              "    }\n",
              "\n",
              "    .dataframe thead th {\n",
              "        text-align: right;\n",
              "    }\n",
              "</style>\n",
              "<table border=\"1\" class=\"dataframe\">\n",
              "  <thead>\n",
              "    <tr style=\"text-align: right;\">\n",
              "      <th></th>\n",
              "      <th>Name</th>\n",
              "      <th>Platform</th>\n",
              "      <th>Year</th>\n",
              "      <th>Genre</th>\n",
              "      <th>Publisher</th>\n",
              "      <th>NA_Sales</th>\n",
              "      <th>EU_Sales</th>\n",
              "      <th>JP_Sales</th>\n",
              "      <th>Global_Sales</th>\n",
              "    </tr>\n",
              "  </thead>\n",
              "  <tbody>\n",
              "    <tr>\n",
              "      <th>0</th>\n",
              "      <td>Imagine: Makeup Artist</td>\n",
              "      <td>DS</td>\n",
              "      <td>2020.0</td>\n",
              "      <td>Simulation</td>\n",
              "      <td>Ubisoft</td>\n",
              "      <td>0.27</td>\n",
              "      <td>0.0</td>\n",
              "      <td>0.00</td>\n",
              "      <td>0.29</td>\n",
              "    </tr>\n",
              "    <tr>\n",
              "      <th>1</th>\n",
              "      <td>Phantasy Star Online 2 Episode 4: Deluxe Package</td>\n",
              "      <td>PS4</td>\n",
              "      <td>2017.0</td>\n",
              "      <td>Role-Playing</td>\n",
              "      <td>Sega</td>\n",
              "      <td>0.00</td>\n",
              "      <td>0.0</td>\n",
              "      <td>0.03</td>\n",
              "      <td>0.03</td>\n",
              "    </tr>\n",
              "    <tr>\n",
              "      <th>2</th>\n",
              "      <td>Brothers Conflict: Precious Baby</td>\n",
              "      <td>PSV</td>\n",
              "      <td>2017.0</td>\n",
              "      <td>Action</td>\n",
              "      <td>Idea Factory</td>\n",
              "      <td>0.00</td>\n",
              "      <td>0.0</td>\n",
              "      <td>0.01</td>\n",
              "      <td>0.01</td>\n",
              "    </tr>\n",
              "    <tr>\n",
              "      <th>3</th>\n",
              "      <td>Phantasy Star Online 2 Episode 4: Deluxe Package</td>\n",
              "      <td>PSV</td>\n",
              "      <td>2017.0</td>\n",
              "      <td>Role-Playing</td>\n",
              "      <td>Sega</td>\n",
              "      <td>0.00</td>\n",
              "      <td>0.0</td>\n",
              "      <td>0.01</td>\n",
              "      <td>0.01</td>\n",
              "    </tr>\n",
              "    <tr>\n",
              "      <th>4</th>\n",
              "      <td>Hyakka Hyakurou: Sengoku Ninpoujou</td>\n",
              "      <td>PSV</td>\n",
              "      <td>2016.0</td>\n",
              "      <td>Adventure</td>\n",
              "      <td>D3Publisher</td>\n",
              "      <td>0.00</td>\n",
              "      <td>0.0</td>\n",
              "      <td>0.02</td>\n",
              "      <td>0.02</td>\n",
              "    </tr>\n",
              "  </tbody>\n",
              "</table>\n",
              "</div>\n",
              "      <button class=\"colab-df-convert\" onclick=\"convertToInteractive('df-27a68821-4687-4cd6-822d-666a01c9223d')\"\n",
              "              title=\"Convert this dataframe to an interactive table.\"\n",
              "              style=\"display:none;\">\n",
              "\n",
              "  <svg xmlns=\"http://www.w3.org/2000/svg\" height=\"24px\"viewBox=\"0 0 24 24\"\n",
              "       width=\"24px\">\n",
              "    <path d=\"M0 0h24v24H0V0z\" fill=\"none\"/>\n",
              "    <path d=\"M18.56 5.44l.94 2.06.94-2.06 2.06-.94-2.06-.94-.94-2.06-.94 2.06-2.06.94zm-11 1L8.5 8.5l.94-2.06 2.06-.94-2.06-.94L8.5 2.5l-.94 2.06-2.06.94zm10 10l.94 2.06.94-2.06 2.06-.94-2.06-.94-.94-2.06-.94 2.06-2.06.94z\"/><path d=\"M17.41 7.96l-1.37-1.37c-.4-.4-.92-.59-1.43-.59-.52 0-1.04.2-1.43.59L10.3 9.45l-7.72 7.72c-.78.78-.78 2.05 0 2.83L4 21.41c.39.39.9.59 1.41.59.51 0 1.02-.2 1.41-.59l7.78-7.78 2.81-2.81c.8-.78.8-2.07 0-2.86zM5.41 20L4 18.59l7.72-7.72 1.47 1.35L5.41 20z\"/>\n",
              "  </svg>\n",
              "      </button>\n",
              "\n",
              "\n",
              "\n",
              "    <div id=\"df-04b71f5e-71f0-4760-8d1d-daabaa242c5b\">\n",
              "      <button class=\"colab-df-quickchart\" onclick=\"quickchart('df-04b71f5e-71f0-4760-8d1d-daabaa242c5b')\"\n",
              "              title=\"Suggest charts.\"\n",
              "              style=\"display:none;\">\n",
              "\n",
              "<svg xmlns=\"http://www.w3.org/2000/svg\" height=\"24px\"viewBox=\"0 0 24 24\"\n",
              "     width=\"24px\">\n",
              "    <g>\n",
              "        <path d=\"M19 3H5c-1.1 0-2 .9-2 2v14c0 1.1.9 2 2 2h14c1.1 0 2-.9 2-2V5c0-1.1-.9-2-2-2zM9 17H7v-7h2v7zm4 0h-2V7h2v10zm4 0h-2v-4h2v4z\"/>\n",
              "    </g>\n",
              "</svg>\n",
              "      </button>\n",
              "    </div>\n",
              "\n",
              "<style>\n",
              "  .colab-df-quickchart {\n",
              "    background-color: #E8F0FE;\n",
              "    border: none;\n",
              "    border-radius: 50%;\n",
              "    cursor: pointer;\n",
              "    display: none;\n",
              "    fill: #1967D2;\n",
              "    height: 32px;\n",
              "    padding: 0 0 0 0;\n",
              "    width: 32px;\n",
              "  }\n",
              "\n",
              "  .colab-df-quickchart:hover {\n",
              "    background-color: #E2EBFA;\n",
              "    box-shadow: 0px 1px 2px rgba(60, 64, 67, 0.3), 0px 1px 3px 1px rgba(60, 64, 67, 0.15);\n",
              "    fill: #174EA6;\n",
              "  }\n",
              "\n",
              "  [theme=dark] .colab-df-quickchart {\n",
              "    background-color: #3B4455;\n",
              "    fill: #D2E3FC;\n",
              "  }\n",
              "\n",
              "  [theme=dark] .colab-df-quickchart:hover {\n",
              "    background-color: #434B5C;\n",
              "    box-shadow: 0px 1px 3px 1px rgba(0, 0, 0, 0.15);\n",
              "    filter: drop-shadow(0px 1px 2px rgba(0, 0, 0, 0.3));\n",
              "    fill: #FFFFFF;\n",
              "  }\n",
              "</style>\n",
              "\n",
              "    <script>\n",
              "      async function quickchart(key) {\n",
              "        const containerElement = document.querySelector('#' + key);\n",
              "        const charts = await google.colab.kernel.invokeFunction(\n",
              "            'suggestCharts', [key], {});\n",
              "      }\n",
              "    </script>\n",
              "\n",
              "      <script>\n",
              "\n",
              "function displayQuickchartButton(domScope) {\n",
              "  let quickchartButtonEl =\n",
              "    domScope.querySelector('#df-04b71f5e-71f0-4760-8d1d-daabaa242c5b button.colab-df-quickchart');\n",
              "  quickchartButtonEl.style.display =\n",
              "    google.colab.kernel.accessAllowed ? 'block' : 'none';\n",
              "}\n",
              "\n",
              "        displayQuickchartButton(document);\n",
              "      </script>\n",
              "      <style>\n",
              "    .colab-df-container {\n",
              "      display:flex;\n",
              "      flex-wrap:wrap;\n",
              "      gap: 12px;\n",
              "    }\n",
              "\n",
              "    .colab-df-convert {\n",
              "      background-color: #E8F0FE;\n",
              "      border: none;\n",
              "      border-radius: 50%;\n",
              "      cursor: pointer;\n",
              "      display: none;\n",
              "      fill: #1967D2;\n",
              "      height: 32px;\n",
              "      padding: 0 0 0 0;\n",
              "      width: 32px;\n",
              "    }\n",
              "\n",
              "    .colab-df-convert:hover {\n",
              "      background-color: #E2EBFA;\n",
              "      box-shadow: 0px 1px 2px rgba(60, 64, 67, 0.3), 0px 1px 3px 1px rgba(60, 64, 67, 0.15);\n",
              "      fill: #174EA6;\n",
              "    }\n",
              "\n",
              "    [theme=dark] .colab-df-convert {\n",
              "      background-color: #3B4455;\n",
              "      fill: #D2E3FC;\n",
              "    }\n",
              "\n",
              "    [theme=dark] .colab-df-convert:hover {\n",
              "      background-color: #434B5C;\n",
              "      box-shadow: 0px 1px 3px 1px rgba(0, 0, 0, 0.15);\n",
              "      filter: drop-shadow(0px 1px 2px rgba(0, 0, 0, 0.3));\n",
              "      fill: #FFFFFF;\n",
              "    }\n",
              "  </style>\n",
              "\n",
              "      <script>\n",
              "        const buttonEl =\n",
              "          document.querySelector('#df-27a68821-4687-4cd6-822d-666a01c9223d button.colab-df-convert');\n",
              "        buttonEl.style.display =\n",
              "          google.colab.kernel.accessAllowed ? 'block' : 'none';\n",
              "\n",
              "        async function convertToInteractive(key) {\n",
              "          const element = document.querySelector('#df-27a68821-4687-4cd6-822d-666a01c9223d');\n",
              "          const dataTable =\n",
              "            await google.colab.kernel.invokeFunction('convertToInteractive',\n",
              "                                                     [key], {});\n",
              "          if (!dataTable) return;\n",
              "\n",
              "          const docLinkHtml = 'Like what you see? Visit the ' +\n",
              "            '<a target=\"_blank\" href=https://colab.research.google.com/notebooks/data_table.ipynb>data table notebook</a>'\n",
              "            + ' to learn more about interactive tables.';\n",
              "          element.innerHTML = '';\n",
              "          dataTable['output_type'] = 'display_data';\n",
              "          await google.colab.output.renderOutput(dataTable, element);\n",
              "          const docLink = document.createElement('div');\n",
              "          docLink.innerHTML = docLinkHtml;\n",
              "          element.appendChild(docLink);\n",
              "        }\n",
              "      </script>\n",
              "    </div>\n",
              "  </div>\n"
            ]
          },
          "metadata": {},
          "execution_count": 12
        }
      ]
    },
    {
      "cell_type": "markdown",
      "source": [
        "# Exercício - Análise Descritiva"
      ],
      "metadata": {
        "id": "ScuattsuvCfJ"
      }
    },
    {
      "cell_type": "markdown",
      "source": [
        "Explore o dataset de venda de games no mundo e responda as seguintes perguntas:\n",
        "\n",
        "A) Qual o genero mais vendido na Europa?\n",
        "\n",
        "B) Qual o Publisher que mais vendeu jogos entre 2005 e 2010?\n",
        "\n",
        "C) Quais são os top 5 jogos mais vendidos do PS3 no Japão? **Apresente um gráfico de  barras para a resposta final**.\n",
        "\n",
        "D) Qual plataforma mais lançou jogos do genero Adventure?\n",
        "\n",
        "\n",
        "\n",
        "**Obs.: Crie quantas células de código e texto que julgar necessário para o cumprimento do exercício de forma satisfatória.**\n"
      ],
      "metadata": {
        "id": "K2PqQQFnvNtS"
      }
    },
    {
      "cell_type": "markdown",
      "source": [
        "---\n",
        "# A) Gênero mais vendido na Europa\n"
      ],
      "metadata": {
        "id": "WDfV-0L1ij41"
      }
    },
    {
      "cell_type": "code",
      "source": [
        "df.groupby('Genre')['EU_Sales'].sum().idxmax()"
      ],
      "metadata": {
        "id": "Ul2mQ3kOinq9",
        "colab": {
          "base_uri": "https://localhost:8080/",
          "height": 35
        },
        "outputId": "1141a6de-9294-49c9-8d26-832ba6c2b844"
      },
      "execution_count": null,
      "outputs": [
        {
          "output_type": "execute_result",
          "data": {
            "text/plain": [
              "'Action'"
            ],
            "application/vnd.google.colaboratory.intrinsic+json": {
              "type": "string"
            }
          },
          "metadata": {},
          "execution_count": 10
        }
      ]
    },
    {
      "cell_type": "markdown",
      "source": [
        "O groupby foi utilizado para agrupar os dados de gênero e vendas na europa. Após, utiliza-se o sum() para somar as vendas na europa de acordo com o gênero. Por fim, idxmax() para encontrar o índice do primeiro valor máximo do df\n",
        "\n",
        "\n",
        "---\n",
        "\n"
      ],
      "metadata": {
        "id": "VnB4MiTd77tP"
      }
    },
    {
      "cell_type": "markdown",
      "source": [
        "---\n",
        "# B) Qual o Publisher que mais vendeu jogos entre 2005 e 2010?"
      ],
      "metadata": {
        "id": "uo51FymAioUk"
      }
    },
    {
      "cell_type": "code",
      "source": [
        "df_year = df[(df['Year'] >= 2005) & (df['Year'] <= 2010)]"
      ],
      "metadata": {
        "id": "3E4DA2t1ipT1",
        "colab": {
          "base_uri": "https://localhost:8080/"
        },
        "outputId": "76b27883-1880-47ef-ac11-1d6ca117d090"
      },
      "execution_count": null,
      "outputs": [
        {
          "output_type": "stream",
          "name": "stdout",
          "text": [
            "                                                    Name Platform    Year  \\\n",
            "3886                                       Lost Planet 2     X360  2010.0   \n",
            "3887                                        My Pet Chimp       DS  2010.0   \n",
            "3888             Ys vs. Sora no Kiseki: Alternative Saga      PSP  2010.0   \n",
            "3889                           Ikki Tousen: Xross Impact      PSP  2010.0   \n",
            "3890                                 Sonny with a Chance       DS  2010.0   \n",
            "...                                                  ...      ...     ...   \n",
            "11150                           Ys: The Ark of Napishtim      PS2  2005.0   \n",
            "11151                                        Wild ARMs 4      PS2  2005.0   \n",
            "11152  NTRA Breeders' Cup World Thoroughbred Champion...      PS2  2005.0   \n",
            "11153                            Dig Dug: Digging Strike       DS  2005.0   \n",
            "11154  NTRA Breeders' Cup World Thoroughbred Champion...       XB  2005.0   \n",
            "\n",
            "              Genre                     Publisher  NA_Sales  EU_Sales  \\\n",
            "3886        Shooter                        Capcom      0.38      0.24   \n",
            "3887     Simulation                     505 Games      0.06      0.00   \n",
            "3888       Fighting            Falcom Corporation      0.00      0.00   \n",
            "3889         Action         Marvelous Interactive      0.00      0.00   \n",
            "3890         Action    Disney Interactive Studios      0.12      0.02   \n",
            "...             ...                           ...       ...       ...   \n",
            "11150  Role-Playing  Konami Digital Entertainment      0.07      0.05   \n",
            "11151  Role-Playing                     505 Games      0.07      0.06   \n",
            "11152    Simulation            Bethesda Softworks      0.07      0.05   \n",
            "11153        Puzzle                         Atari      0.05      0.00   \n",
            "11154    Simulation            Bethesda Softworks      0.04      0.01   \n",
            "\n",
            "       JP_Sales  Global_Sales  \n",
            "3886       0.08          0.76  \n",
            "3887       0.00          0.06  \n",
            "3888       0.06          0.06  \n",
            "3889       0.06          0.06  \n",
            "3890       0.00          0.15  \n",
            "...         ...           ...  \n",
            "11150      0.00          0.13  \n",
            "11151      0.00          0.14  \n",
            "11152      0.00          0.13  \n",
            "11153      0.00          0.06  \n",
            "11154      0.00          0.06  \n",
            "\n",
            "[7269 rows x 9 columns]\n"
          ]
        }
      ]
    },
    {
      "cell_type": "markdown",
      "source": [
        "Criou-se um novo DataFrame chamado df_year para filtrar apenas os jogos lançados entre 2005 e 2010"
      ],
      "metadata": {
        "id": "Pf0WUcdD_DP1"
      }
    },
    {
      "cell_type": "code",
      "source": [
        "df_year.groupby('Publisher')['Global_Sales'].sum().idxmax()"
      ],
      "metadata": {
        "id": "kEHW5AlNipzQ",
        "colab": {
          "base_uri": "https://localhost:8080/",
          "height": 35
        },
        "outputId": "69298f97-1457-4eff-9381-68358b580357"
      },
      "execution_count": null,
      "outputs": [
        {
          "output_type": "execute_result",
          "data": {
            "text/plain": [
              "'Nintendo'"
            ],
            "application/vnd.google.colaboratory.intrinsic+json": {
              "type": "string"
            }
          },
          "metadata": {},
          "execution_count": 18
        }
      ]
    },
    {
      "cell_type": "markdown",
      "source": [
        "Agrupou o novo DataFrame 'df_year' em Publisher e Global_Sales e somou os valores de acordo com cada publisher e suas vendas globais. Por fim, filtrou o id máximo, ou seja, o Publisher que mais vendeu no período de tempo\n",
        "\n",
        "---\n",
        "\n"
      ],
      "metadata": {
        "id": "I-oxhkRn_o7p"
      }
    },
    {
      "cell_type": "markdown",
      "source": [
        "---\n",
        "#C) Quais são os top 5 jogos mais vendidos do PS3 no Japão?"
      ],
      "metadata": {
        "id": "MeUnEZwPip74"
      }
    },
    {
      "cell_type": "code",
      "source": [
        "import seaborn"
      ],
      "metadata": {
        "id": "F12InDVqirad"
      },
      "execution_count": null,
      "outputs": []
    },
    {
      "cell_type": "markdown",
      "source": [
        "Import da lib seaborn para construção de gráficos"
      ],
      "metadata": {
        "id": "x4le9DXfDrX1"
      }
    },
    {
      "cell_type": "code",
      "source": [
        "df_ps3 = df.query('Platform == \"PS3\"').sort_values(by='JP_Sales', ascending=False).head()\n",
        "df_ps3.sort_values(by='JP_Sales', ascending=False).head()"
      ],
      "metadata": {
        "id": "c78AuDnFir2U",
        "colab": {
          "base_uri": "https://localhost:8080/",
          "height": 206
        },
        "outputId": "0767ae1b-54fc-44cd-83cb-85c21c0536a8"
      },
      "execution_count": null,
      "outputs": [
        {
          "output_type": "execute_result",
          "data": {
            "text/plain": [
              "                      Name Platform    Year         Genre  \\\n",
              "5895    Final Fantasy XIII      PS3  2009.0  Role-Playing   \n",
              "6310       Resident Evil 5      PS3  2009.0        Action   \n",
              "1969    Grand Theft Auto V      PS3  2013.0        Action   \n",
              "3703  Final Fantasy XIII-2      PS3  2011.0  Role-Playing   \n",
              "2338       Resident Evil 6      PS3  2012.0       Shooter   \n",
              "\n",
              "                 Publisher  NA_Sales  EU_Sales  JP_Sales  Global_Sales  \n",
              "5895           Square Enix      1.74      1.24      1.87          5.36  \n",
              "6310                Capcom      1.96      1.43      1.08          5.11  \n",
              "1969  Take-Two Interactive      7.01      9.27      0.97         21.40  \n",
              "3703           Square Enix      0.78      0.75      0.89          2.68  \n",
              "2338                Capcom      0.88      0.97      0.88          3.15  "
            ],
            "text/html": [
              "\n",
              "\n",
              "  <div id=\"df-b95cd9b5-e0ac-47fe-9e77-5aa70c33f9e6\">\n",
              "    <div class=\"colab-df-container\">\n",
              "      <div>\n",
              "<style scoped>\n",
              "    .dataframe tbody tr th:only-of-type {\n",
              "        vertical-align: middle;\n",
              "    }\n",
              "\n",
              "    .dataframe tbody tr th {\n",
              "        vertical-align: top;\n",
              "    }\n",
              "\n",
              "    .dataframe thead th {\n",
              "        text-align: right;\n",
              "    }\n",
              "</style>\n",
              "<table border=\"1\" class=\"dataframe\">\n",
              "  <thead>\n",
              "    <tr style=\"text-align: right;\">\n",
              "      <th></th>\n",
              "      <th>Name</th>\n",
              "      <th>Platform</th>\n",
              "      <th>Year</th>\n",
              "      <th>Genre</th>\n",
              "      <th>Publisher</th>\n",
              "      <th>NA_Sales</th>\n",
              "      <th>EU_Sales</th>\n",
              "      <th>JP_Sales</th>\n",
              "      <th>Global_Sales</th>\n",
              "    </tr>\n",
              "  </thead>\n",
              "  <tbody>\n",
              "    <tr>\n",
              "      <th>5895</th>\n",
              "      <td>Final Fantasy XIII</td>\n",
              "      <td>PS3</td>\n",
              "      <td>2009.0</td>\n",
              "      <td>Role-Playing</td>\n",
              "      <td>Square Enix</td>\n",
              "      <td>1.74</td>\n",
              "      <td>1.24</td>\n",
              "      <td>1.87</td>\n",
              "      <td>5.36</td>\n",
              "    </tr>\n",
              "    <tr>\n",
              "      <th>6310</th>\n",
              "      <td>Resident Evil 5</td>\n",
              "      <td>PS3</td>\n",
              "      <td>2009.0</td>\n",
              "      <td>Action</td>\n",
              "      <td>Capcom</td>\n",
              "      <td>1.96</td>\n",
              "      <td>1.43</td>\n",
              "      <td>1.08</td>\n",
              "      <td>5.11</td>\n",
              "    </tr>\n",
              "    <tr>\n",
              "      <th>1969</th>\n",
              "      <td>Grand Theft Auto V</td>\n",
              "      <td>PS3</td>\n",
              "      <td>2013.0</td>\n",
              "      <td>Action</td>\n",
              "      <td>Take-Two Interactive</td>\n",
              "      <td>7.01</td>\n",
              "      <td>9.27</td>\n",
              "      <td>0.97</td>\n",
              "      <td>21.40</td>\n",
              "    </tr>\n",
              "    <tr>\n",
              "      <th>3703</th>\n",
              "      <td>Final Fantasy XIII-2</td>\n",
              "      <td>PS3</td>\n",
              "      <td>2011.0</td>\n",
              "      <td>Role-Playing</td>\n",
              "      <td>Square Enix</td>\n",
              "      <td>0.78</td>\n",
              "      <td>0.75</td>\n",
              "      <td>0.89</td>\n",
              "      <td>2.68</td>\n",
              "    </tr>\n",
              "    <tr>\n",
              "      <th>2338</th>\n",
              "      <td>Resident Evil 6</td>\n",
              "      <td>PS3</td>\n",
              "      <td>2012.0</td>\n",
              "      <td>Shooter</td>\n",
              "      <td>Capcom</td>\n",
              "      <td>0.88</td>\n",
              "      <td>0.97</td>\n",
              "      <td>0.88</td>\n",
              "      <td>3.15</td>\n",
              "    </tr>\n",
              "  </tbody>\n",
              "</table>\n",
              "</div>\n",
              "      <button class=\"colab-df-convert\" onclick=\"convertToInteractive('df-b95cd9b5-e0ac-47fe-9e77-5aa70c33f9e6')\"\n",
              "              title=\"Convert this dataframe to an interactive table.\"\n",
              "              style=\"display:none;\">\n",
              "\n",
              "  <svg xmlns=\"http://www.w3.org/2000/svg\" height=\"24px\"viewBox=\"0 0 24 24\"\n",
              "       width=\"24px\">\n",
              "    <path d=\"M0 0h24v24H0V0z\" fill=\"none\"/>\n",
              "    <path d=\"M18.56 5.44l.94 2.06.94-2.06 2.06-.94-2.06-.94-.94-2.06-.94 2.06-2.06.94zm-11 1L8.5 8.5l.94-2.06 2.06-.94-2.06-.94L8.5 2.5l-.94 2.06-2.06.94zm10 10l.94 2.06.94-2.06 2.06-.94-2.06-.94-.94-2.06-.94 2.06-2.06.94z\"/><path d=\"M17.41 7.96l-1.37-1.37c-.4-.4-.92-.59-1.43-.59-.52 0-1.04.2-1.43.59L10.3 9.45l-7.72 7.72c-.78.78-.78 2.05 0 2.83L4 21.41c.39.39.9.59 1.41.59.51 0 1.02-.2 1.41-.59l7.78-7.78 2.81-2.81c.8-.78.8-2.07 0-2.86zM5.41 20L4 18.59l7.72-7.72 1.47 1.35L5.41 20z\"/>\n",
              "  </svg>\n",
              "      </button>\n",
              "\n",
              "\n",
              "\n",
              "    <div id=\"df-a7b7a14d-ba3c-4b21-9369-356c79a5c564\">\n",
              "      <button class=\"colab-df-quickchart\" onclick=\"quickchart('df-a7b7a14d-ba3c-4b21-9369-356c79a5c564')\"\n",
              "              title=\"Suggest charts.\"\n",
              "              style=\"display:none;\">\n",
              "\n",
              "<svg xmlns=\"http://www.w3.org/2000/svg\" height=\"24px\"viewBox=\"0 0 24 24\"\n",
              "     width=\"24px\">\n",
              "    <g>\n",
              "        <path d=\"M19 3H5c-1.1 0-2 .9-2 2v14c0 1.1.9 2 2 2h14c1.1 0 2-.9 2-2V5c0-1.1-.9-2-2-2zM9 17H7v-7h2v7zm4 0h-2V7h2v10zm4 0h-2v-4h2v4z\"/>\n",
              "    </g>\n",
              "</svg>\n",
              "      </button>\n",
              "    </div>\n",
              "\n",
              "<style>\n",
              "  .colab-df-quickchart {\n",
              "    background-color: #E8F0FE;\n",
              "    border: none;\n",
              "    border-radius: 50%;\n",
              "    cursor: pointer;\n",
              "    display: none;\n",
              "    fill: #1967D2;\n",
              "    height: 32px;\n",
              "    padding: 0 0 0 0;\n",
              "    width: 32px;\n",
              "  }\n",
              "\n",
              "  .colab-df-quickchart:hover {\n",
              "    background-color: #E2EBFA;\n",
              "    box-shadow: 0px 1px 2px rgba(60, 64, 67, 0.3), 0px 1px 3px 1px rgba(60, 64, 67, 0.15);\n",
              "    fill: #174EA6;\n",
              "  }\n",
              "\n",
              "  [theme=dark] .colab-df-quickchart {\n",
              "    background-color: #3B4455;\n",
              "    fill: #D2E3FC;\n",
              "  }\n",
              "\n",
              "  [theme=dark] .colab-df-quickchart:hover {\n",
              "    background-color: #434B5C;\n",
              "    box-shadow: 0px 1px 3px 1px rgba(0, 0, 0, 0.15);\n",
              "    filter: drop-shadow(0px 1px 2px rgba(0, 0, 0, 0.3));\n",
              "    fill: #FFFFFF;\n",
              "  }\n",
              "</style>\n",
              "\n",
              "    <script>\n",
              "      async function quickchart(key) {\n",
              "        const containerElement = document.querySelector('#' + key);\n",
              "        const charts = await google.colab.kernel.invokeFunction(\n",
              "            'suggestCharts', [key], {});\n",
              "      }\n",
              "    </script>\n",
              "\n",
              "      <script>\n",
              "\n",
              "function displayQuickchartButton(domScope) {\n",
              "  let quickchartButtonEl =\n",
              "    domScope.querySelector('#df-a7b7a14d-ba3c-4b21-9369-356c79a5c564 button.colab-df-quickchart');\n",
              "  quickchartButtonEl.style.display =\n",
              "    google.colab.kernel.accessAllowed ? 'block' : 'none';\n",
              "}\n",
              "\n",
              "        displayQuickchartButton(document);\n",
              "      </script>\n",
              "      <style>\n",
              "    .colab-df-container {\n",
              "      display:flex;\n",
              "      flex-wrap:wrap;\n",
              "      gap: 12px;\n",
              "    }\n",
              "\n",
              "    .colab-df-convert {\n",
              "      background-color: #E8F0FE;\n",
              "      border: none;\n",
              "      border-radius: 50%;\n",
              "      cursor: pointer;\n",
              "      display: none;\n",
              "      fill: #1967D2;\n",
              "      height: 32px;\n",
              "      padding: 0 0 0 0;\n",
              "      width: 32px;\n",
              "    }\n",
              "\n",
              "    .colab-df-convert:hover {\n",
              "      background-color: #E2EBFA;\n",
              "      box-shadow: 0px 1px 2px rgba(60, 64, 67, 0.3), 0px 1px 3px 1px rgba(60, 64, 67, 0.15);\n",
              "      fill: #174EA6;\n",
              "    }\n",
              "\n",
              "    [theme=dark] .colab-df-convert {\n",
              "      background-color: #3B4455;\n",
              "      fill: #D2E3FC;\n",
              "    }\n",
              "\n",
              "    [theme=dark] .colab-df-convert:hover {\n",
              "      background-color: #434B5C;\n",
              "      box-shadow: 0px 1px 3px 1px rgba(0, 0, 0, 0.15);\n",
              "      filter: drop-shadow(0px 1px 2px rgba(0, 0, 0, 0.3));\n",
              "      fill: #FFFFFF;\n",
              "    }\n",
              "  </style>\n",
              "\n",
              "      <script>\n",
              "        const buttonEl =\n",
              "          document.querySelector('#df-b95cd9b5-e0ac-47fe-9e77-5aa70c33f9e6 button.colab-df-convert');\n",
              "        buttonEl.style.display =\n",
              "          google.colab.kernel.accessAllowed ? 'block' : 'none';\n",
              "\n",
              "        async function convertToInteractive(key) {\n",
              "          const element = document.querySelector('#df-b95cd9b5-e0ac-47fe-9e77-5aa70c33f9e6');\n",
              "          const dataTable =\n",
              "            await google.colab.kernel.invokeFunction('convertToInteractive',\n",
              "                                                     [key], {});\n",
              "          if (!dataTable) return;\n",
              "\n",
              "          const docLinkHtml = 'Like what you see? Visit the ' +\n",
              "            '<a target=\"_blank\" href=https://colab.research.google.com/notebooks/data_table.ipynb>data table notebook</a>'\n",
              "            + ' to learn more about interactive tables.';\n",
              "          element.innerHTML = '';\n",
              "          dataTable['output_type'] = 'display_data';\n",
              "          await google.colab.output.renderOutput(dataTable, element);\n",
              "          const docLink = document.createElement('div');\n",
              "          docLink.innerHTML = docLinkHtml;\n",
              "          element.appendChild(docLink);\n",
              "        }\n",
              "      </script>\n",
              "    </div>\n",
              "  </div>\n"
            ]
          },
          "metadata": {},
          "execution_count": 28
        }
      ]
    },
    {
      "cell_type": "markdown",
      "source": [
        "Primeiramente, armazenou-se em uma variável um filtro para os jogos cuja Platform é PS3. Após, ordenou-se os valores de forma decrescente, tendo em vista a coluna JP_Sales(vendas no Japão), e por fim, apresentou-se os 5 primeiros dessa ordem descrecente, ou seja, os cinco jogos mais vendidos no Japão\n",
        "\n",
        "\n"
      ],
      "metadata": {
        "id": "SDrsrGCOCCl2"
      }
    },
    {
      "cell_type": "code",
      "source": [
        "df_ps3.plot.bar(x='Name', y='JP_Sales')"
      ],
      "metadata": {
        "colab": {
          "base_uri": "https://localhost:8080/",
          "height": 586
        },
        "id": "iamNnxMgDxiH",
        "outputId": "f4e2b700-33f4-494d-b959-b99991f3d56c"
      },
      "execution_count": null,
      "outputs": [
        {
          "output_type": "execute_result",
          "data": {
            "text/plain": [
              "<Axes: xlabel='Name'>"
            ]
          },
          "metadata": {},
          "execution_count": 31
        },
        {
          "output_type": "display_data",
          "data": {
            "text/plain": [
              "<Figure size 640x480 with 1 Axes>"
            ],
            "image/png": "[encoded data removed]"
          },
          "metadata": {}
        }
      ]
    },
    {
      "cell_type": "markdown",
      "source": [
        "O código acima utiliza a lib de gráficos para plotar um gráfico a partir do DataFrame anteriormente criado. Para especificar o tipo de gráfico, foi utilizado o .bar(), detalhando quais colunas são o x e y do gráfico.\n",
        "\n",
        "---\n",
        "\n"
      ],
      "metadata": {
        "id": "6BksUCsEDxE_"
      }
    },
    {
      "cell_type": "markdown",
      "source": [
        "---\n",
        "# D) Qual plataforma mais lançou jogos do genero Adventure?\n"
      ],
      "metadata": {
        "id": "5FEhjNyqisQv"
      }
    },
    {
      "cell_type": "code",
      "source": [
        "df.query('Genre == \"Adventure\"')['Platform'].value_counts().idxmax()"
      ],
      "metadata": {
        "id": "pMivKRTxiuDU",
        "colab": {
          "base_uri": "https://localhost:8080/",
          "height": 35
        },
        "outputId": "f92a120b-702f-4441-c289-232ced1912f2"
      },
      "execution_count": null,
      "outputs": [
        {
          "output_type": "execute_result",
          "data": {
            "text/plain": [
              "'DS'"
            ],
            "application/vnd.google.colaboratory.intrinsic+json": {
              "type": "string"
            }
          },
          "metadata": {},
          "execution_count": 35
        }
      ]
    },
    {
      "cell_type": "markdown",
      "source": [
        "Filtrou-se no DataFrame apenas os Generos de Adventure. Após, extraiu-se apenas quantos jogos Adventure cada planaforma lançou, colocando-os de maneira decrescente. Por fim, apresentou-se a plataforma com mais vendas com o idxmax()\n",
        "\n",
        "---\n",
        "\n"
      ],
      "metadata": {
        "id": "QAV2-LVyHltL"
      }
    }
  ]
}